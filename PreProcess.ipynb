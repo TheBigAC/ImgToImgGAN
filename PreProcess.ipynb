{
  "nbformat": 4,
  "nbformat_minor": 0,
  "metadata": {
    "colab": {
      "provenance": [],
      "gpuType": "T4",
      "authorship_tag": "ABX9TyMwSZgiLrM2nt/JdKmaN/OD",
      "include_colab_link": true
    },
    "kernelspec": {
      "name": "python3",
      "display_name": "Python 3"
    },
    "language_info": {
      "name": "python"
    }
  },
  "cells": [
    {
      "cell_type": "markdown",
      "metadata": {
        "id": "view-in-github",
        "colab_type": "text"
      },
      "source": [
        "<a href=\"https://colab.research.google.com/github/TheBigAC/ImgToImgGAN/blob/main/PreProcess.ipynb\" target=\"_parent\"><img src=\"https://colab.research.google.com/assets/colab-badge.svg\" alt=\"Open In Colab\"/></a>"
      ]
    },
    {
      "cell_type": "code",
      "execution_count": null,
      "metadata": {
        "id": "DWZp_EysgTt2"
      },
      "outputs": [],
      "source": [
        "# @title Importing all modules\n",
        "import os\n",
        "import numpy as np\n",
        "import pandas as pd\n",
        "import seaborn as sns\n",
        "import matplotlib.pyplot as plt\n",
        "import tensorflow as tf\n",
        "import tensorflow.keras as keras\n",
        "from PIL import Image\n",
        "import pickle\n",
        "from keras.models import Sequential\n",
        "from keras.layers import Dense, Conv2D, Input\n",
        "from keras.layers import Activation, MaxPooling2D, UpSampling2D, Dropout, Flatten, Reshape\n",
        "from tensorflow.keras.applications.resnet50 import preprocess_input, decode_predictions\n",
        "from tensorflow.keras.preprocessing.image import load_img\n",
        "from google.colab import drive\n",
        "drive.mount('/content/gdrive')"
      ]
    },
    {
      "cell_type": "code",
      "source": [
        "#@title Path and Database info\n",
        "\n",
        "path = \"/content/gdrive/MyDrive/AdvayChandra/MainModel/Data/\"\n",
        "input_directory = \"CMPFacades/val/\"\n",
        "Xcol_label = \"X_val\"\n",
        "ycol_label = \"y_val\"\n",
        "database_directory = \"CMPFacades/\"\n",
        "database_name = \"valdata\"\n",
        "number = 100"
      ],
      "metadata": {
        "id": "awyrIQ5-q1Pd"
      },
      "execution_count": null,
      "outputs": []
    },
    {
      "cell_type": "code",
      "source": [
        "# @title Obtaining all Images and storing them in an NP array\n",
        "def convertImageToArray(folder, img):\n",
        "  image_path = path + folder + str(img) + '.jpg'\n",
        "  image = Image.open(image_path)#.resize((256, 128))\n",
        "  image_array = np.asarray(image) / 255\n",
        "  split_arrays = tf.split(image_array, num_or_size_splits=2, axis=1)\n",
        "  array_1 = split_arrays[0]\n",
        "  array_2 = split_arrays[1]\n",
        "  return array_1, array_2"
      ],
      "metadata": {
        "id": "1f3x3f-5IPj2"
      },
      "execution_count": null,
      "outputs": []
    },
    {
      "cell_type": "code",
      "source": [
        "# @title If want to convert to Tensor instead\n",
        "\n",
        "def convertImageToTensor(folder, img):\n",
        "  image_path = path + folder + str(img) + '.jpg'\n",
        "  image = Image.open(image_path)#.resize((256, 128))\n",
        "  image_array = np.asarray(image) / 255\n",
        "  split_arrays = tf.split(image_array, num_or_size_splits=2, axis=1)\n",
        "  array_1 = split_arrays[0]\n",
        "  array_2 = split_arrays[1]\n",
        "  return tf.convert_to_tensor(array_1), tf.convert_to_tensor(array_2)"
      ],
      "metadata": {
        "id": "Hm6eqMJvDJio"
      },
      "execution_count": null,
      "outputs": []
    },
    {
      "cell_type": "code",
      "source": [
        "#@title Download and convert all images into tensors\n",
        "\n",
        "X_list = []\n",
        "y_list = []\n",
        "\n",
        "for i in range(1, number):\n",
        "  X_value, y_value = convertImageToTensor(input_directory, i)\n",
        "  X_list.append(X_value)\n",
        "  y_list.append(y_value)\n"
      ],
      "metadata": {
        "id": "dqQbrJQ4_l_i"
      },
      "execution_count": null,
      "outputs": []
    },
    {
      "cell_type": "code",
      "source": [
        "#@title Create Pickle database and save\n",
        "\n",
        "data = {\n",
        "    Xcol_label: X_list,\n",
        "    ycol_label: y_list,\n",
        "}\n",
        "\n",
        "with open(path + database_directory + database_name + \".pkl\", \"wb\") as file:\n",
        "  pickle.dump(data, file)\n",
        "\n",
        "file.close()"
      ],
      "metadata": {
        "id": "4vbroq0ABaEr"
      },
      "execution_count": null,
      "outputs": []
    },
    {
      "cell_type": "code",
      "source": [
        "#@title Upload database and test 1st row\n",
        "\n",
        "import pickle\n",
        "\n",
        "with open(path + database_directory + database_name + \".pkl\", 'rb') as file:\n",
        "    data = pickle.load(file)\n",
        "\n",
        "X_train = tf.data.Dataset.from_tensor_slices(data[Xcol_label])\n",
        "y_train = tf.data.Dataset.from_tensor_slices(data[ycol_label])\n",
        "\n",
        "plt.imshow(data[Xcol_label][1])\n",
        "plt.show()\n",
        "plt.imshow(data[ycol_label][1])\n",
        "plt.show()"
      ],
      "metadata": {
        "id": "z0B6eiWyCGSv"
      },
      "execution_count": null,
      "outputs": []
    }
  ]
}